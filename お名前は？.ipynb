{
 "cells": [
  {
   "cell_type": "code",
   "execution_count": 29,
   "id": "b0a1f374",
   "metadata": {},
   "outputs": [],
   "source": [
    "import PySimpleGUI as sg\n",
    "\n",
    "layout = [ [sg.Text('お名前は？')],#レイアウト定義。テキスト表示\n",
    "           [sg.Input(key='name')],#入力欄を設定\n",
    "           [sg.Button('決定', key = 'bt')] ]#決定ボタンを設定\n",
    "window = sg.Window('こんにちは', layout)#ウィンドウ作成\n",
    "event,values =window.read()#ウィンドウ表示\n",
    "\n",
    "if event == 'bt':\n",
    "    sg.Popup(values['name'] + 'さん　ありがとうございます', title='(^O^)')\n",
    "    \n",
    "window.close()#ウィンドウを閉じる"
   ]
  },
  {
   "cell_type": "code",
   "execution_count": null,
   "id": "fa3f75fb",
   "metadata": {},
   "outputs": [],
   "source": []
  },
  {
   "cell_type": "code",
   "execution_count": null,
   "id": "6acb57c4",
   "metadata": {
    "scrolled": true
   },
   "outputs": [],
   "source": []
  },
  {
   "cell_type": "code",
   "execution_count": null,
   "id": "683cb4f1",
   "metadata": {},
   "outputs": [],
   "source": []
  }
 ],
 "metadata": {
  "kernelspec": {
   "display_name": "Python 3 (ipykernel)",
   "language": "python",
   "name": "python3"
  },
  "language_info": {
   "codemirror_mode": {
    "name": "ipython",
    "version": 3
   },
   "file_extension": ".py",
   "mimetype": "text/x-python",
   "name": "python",
   "nbconvert_exporter": "python",
   "pygments_lexer": "ipython3",
   "version": "3.11.3"
  }
 },
 "nbformat": 4,
 "nbformat_minor": 5
}
